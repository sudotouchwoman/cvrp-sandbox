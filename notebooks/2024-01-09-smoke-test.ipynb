{
 "cells": [
  {
   "cell_type": "code",
   "execution_count": null,
   "metadata": {},
   "outputs": [],
   "source": [
    "import vrplib\n",
    "import pathlib\n",
    "\n",
    "\n",
    "from itertools import pairwise\n",
    "import plotly.express as px\n",
    "import plotly.offline as py\n",
    "# import chart_studio.plotly as py\n",
    "import pandas as pd\n",
    "\n",
    "py.init_notebook_mode()"
   ]
  },
  {
   "cell_type": "code",
   "execution_count": null,
   "metadata": {},
   "outputs": [],
   "source": [
    "# one can try out other problems, but take note that\n",
    "# A series problems seem not to include the customer location data\n",
    "# (it is used to visualize the results, but not in the actual ALNS algorithm, actually)\n",
    "# instance_name = \"E-n13-k4\"\n",
    "\n",
    "# instance_name = \"E-n76-k10\"\n",
    "# instance_name = \"B-n63-k10\"\n",
    "# instance_name = \"E-n23-k3\"\n",
    "# instance_name = \"E-n101-k14\"\n",
    "instance_name = \"E-n101-k8\"\n",
    "\n",
    "instance_path = pathlib.Path(\"../data/\") / f\"{instance_name}.vrp\"\n",
    "solution_path = pathlib.Path(\"../data/\") / f\"{instance_name}.sol\"\n",
    "\n",
    "if not instance_path.is_file():\n",
    "    vrplib.download_instance(instance_name, instance_path)\n",
    "if not solution_path.is_file():\n",
    "    vrplib.download_solution(instance_name, solution_path)\n",
    "\n",
    "data = vrplib.read_instance(instance_path)\n",
    "best_known_solution = vrplib.read_solution(solution_path)"
   ]
  },
  {
   "cell_type": "code",
   "execution_count": null,
   "metadata": {},
   "outputs": [],
   "source": [
    "data.keys()"
   ]
  },
  {
   "cell_type": "code",
   "execution_count": null,
   "metadata": {},
   "outputs": [],
   "source": [
    "print(data[\"name\"])\n",
    "print(data[\"comment\"])\n",
    "print(data[\"dimension\"])"
   ]
  },
  {
   "cell_type": "code",
   "execution_count": null,
   "metadata": {},
   "outputs": [],
   "source": [
    "data[\"edge_weight\"].shape"
   ]
  },
  {
   "cell_type": "code",
   "execution_count": null,
   "metadata": {},
   "outputs": [],
   "source": [
    "# best_known_solution"
   ]
  },
  {
   "cell_type": "code",
   "execution_count": null,
   "metadata": {},
   "outputs": [],
   "source": [
    "import lns\n",
    "from lns import cvrp"
   ]
  },
  {
   "cell_type": "code",
   "execution_count": null,
   "metadata": {},
   "outputs": [],
   "source": [
    "# data"
   ]
  },
  {
   "cell_type": "code",
   "execution_count": null,
   "metadata": {},
   "outputs": [],
   "source": [
    "problem = cvrp.Problem.from_vrplib(data)\n",
    "opt_sol = cvrp.Solution.from_vrplib(best_known_solution)"
   ]
  },
  {
   "cell_type": "code",
   "execution_count": null,
   "metadata": {},
   "outputs": [],
   "source": [
    "def plot_solution(p: cvrp.Problem, sol: cvrp.Solution):\n",
    "    df = pd.DataFrame(\n",
    "        {\n",
    "            \"x\": p.customers[:, 0],\n",
    "            \"y\": p.customers[:, 1],\n",
    "            \"customer\": range(len(p.customers)),\n",
    "            \"marker\": \"customer\",\n",
    "            \"demand\": p.demands,\n",
    "            \"marker_size\": 0.2,\n",
    "        }\n",
    "    )\n",
    "\n",
    "    df.loc[0, [\"marker\", \"marker_size\"]] = \"depot\", 3\n",
    "\n",
    "    fig = px.scatter(\n",
    "        df,\n",
    "        x=\"x\",\n",
    "        y=\"y\",\n",
    "        symbol=\"marker\",\n",
    "        symbol_sequence=[\"star\", \"circle-open\"],\n",
    "        size=\"marker_size\",\n",
    "        # color=\"demand\",\n",
    "        # color_continuous_scale=\"inferno\",\n",
    "        hover_data=\"customer\",\n",
    "        # template=\"ploly_white\",\n",
    "        title=p.name,\n",
    "        height=800,\n",
    "        width=1200,\n",
    "    )\n",
    "\n",
    "    for i, route in enumerate(sol.routes, start=1):\n",
    "        edge_x, edge_y = [], []\n",
    "\n",
    "        for a, b in pairwise([0] + route + [0]):\n",
    "            edge_x.append(p.customers[a, 0])\n",
    "            edge_x.append(p.customers[b, 0])\n",
    "            edge_x.append(None)\n",
    "\n",
    "            edge_y.append(p.customers[a, 1])\n",
    "            edge_y.append(p.customers[b, 1])\n",
    "            edge_y.append(None)\n",
    "\n",
    "        fig.add_scatter(\n",
    "            x=edge_x,\n",
    "            y=edge_y,\n",
    "            name=f\"Route {i}\",\n",
    "            showlegend=False,\n",
    "        )\n",
    "\n",
    "    return fig"
   ]
  },
  {
   "cell_type": "code",
   "execution_count": null,
   "metadata": {},
   "outputs": [],
   "source": [
    "import numpy as np\n",
    "\n",
    "\n",
    "rng = np.random.default_rng(seed=10)\n",
    "accept_criterion = lns.accept.RandomAccept(proba=0.5, end_proba=1e-2, step=0.99, method=\"exponential\")\n",
    "\n",
    "destroy_operators = [\n",
    "    lns.operators.RandomRemove(\n",
    "        lns.operators.BasicDestroyConfig(\n",
    "            dim=problem.dim,\n",
    "            bounds=[3, 40],\n",
    "            rng=rng,\n",
    "        )\n",
    "    )\n",
    "]\n",
    "\n",
    "repair_operators = [\n",
    "    lns.operators.GreedyRepair(\n",
    "        lns.operators.BasicRepairConfig(\n",
    "            problem=problem,\n",
    "            rng=rng,\n",
    "        )\n",
    "    )\n",
    "]"
   ]
  },
  {
   "cell_type": "code",
   "execution_count": null,
   "metadata": {},
   "outputs": [],
   "source": [
    "seeds = lns.construct.fps_seed(problem.distances, problem.min_vehicles)\n",
    "seeds"
   ]
  },
  {
   "cell_type": "code",
   "execution_count": null,
   "metadata": {},
   "outputs": [],
   "source": [
    "# initial_solution = lns.construct.nearest_neighbour_builder(problem)\n",
    "initial_solution = lns.construct.random_builder(problem)"
   ]
  },
  {
   "cell_type": "code",
   "execution_count": null,
   "metadata": {},
   "outputs": [],
   "source": [
    "len(initial_solution.routes)"
   ]
  },
  {
   "cell_type": "code",
   "execution_count": null,
   "metadata": {},
   "outputs": [],
   "source": [
    "opt_sol.cost"
   ]
  },
  {
   "cell_type": "code",
   "execution_count": null,
   "metadata": {},
   "outputs": [],
   "source": [
    "initial_solution.cost"
   ]
  },
  {
   "cell_type": "code",
   "execution_count": null,
   "metadata": {},
   "outputs": [],
   "source": [
    "solver = lns.alns.ALNS(accept=accept_criterion, destroy_operators=destroy_operators, repair_operators=repair_operators)\n",
    "alns_sol = solver.iterate(initial_solution, max_iter=100_000, max_runtime=30, verbose=True)"
   ]
  },
  {
   "cell_type": "code",
   "execution_count": null,
   "metadata": {},
   "outputs": [],
   "source": [
    "assert cvrp.check_solution(problem, alns_sol.best_solution)"
   ]
  },
  {
   "cell_type": "code",
   "execution_count": null,
   "metadata": {},
   "outputs": [],
   "source": [
    "len(alns_sol.best_solution.routes)"
   ]
  },
  {
   "cell_type": "code",
   "execution_count": null,
   "metadata": {},
   "outputs": [],
   "source": [
    "for x in range(problem.dim):\n",
    "    matches = [i for i, r in enumerate(initial_solution.routes) if x in r]\n",
    "    if len(matches) > 1:\n",
    "        print(f\"error: {x} - routes {matches}\")"
   ]
  },
  {
   "cell_type": "code",
   "execution_count": null,
   "metadata": {},
   "outputs": [],
   "source": [
    "alns_sol.best_solution.cost"
   ]
  },
  {
   "cell_type": "code",
   "execution_count": null,
   "metadata": {},
   "outputs": [],
   "source": [
    "fig = plot_solution(problem, opt_sol)\n",
    "py.iplot(fig, filename=\"opt_solution\")"
   ]
  },
  {
   "cell_type": "code",
   "execution_count": null,
   "metadata": {},
   "outputs": [],
   "source": [
    "fig = plot_solution(problem, initial_solution)\n",
    "py.iplot(fig, filename=\"initial_nn_solution\")"
   ]
  },
  {
   "cell_type": "code",
   "execution_count": null,
   "metadata": {},
   "outputs": [],
   "source": [
    "print(alns_sol.best_solution.cost)\n",
    "print(len(alns_sol.best_solution.routes))"
   ]
  },
  {
   "cell_type": "code",
   "execution_count": null,
   "metadata": {},
   "outputs": [],
   "source": [
    "fig = plot_solution(problem, alns_sol.best_solution)\n",
    "py.iplot(fig, filename=\"alns_best_solution\")"
   ]
  },
  {
   "cell_type": "code",
   "execution_count": null,
   "metadata": {},
   "outputs": [],
   "source": [
    "def plot_iterations(solution: lns.alns.TracedSolution, optimal_cost: float):\n",
    "    df = pd.DataFrame(\n",
    "        {\n",
    "            \"best\": solution.best_costs,\n",
    "            \"running\": solution.iteration_costs,\n",
    "        }\n",
    "    )\n",
    "\n",
    "    mape = (solution.best_solution.cost - optimal_cost) / optimal_cost\n",
    "\n",
    "    fig = px.scatter(\n",
    "        df,\n",
    "        y=\"running\",\n",
    "        height=800,\n",
    "        width=1200,\n",
    "        title=f\"Solution progress: best MAPE: {mape * 100:.3f}%\"\n",
    "    )\n",
    "\n",
    "    fig.add_scatter(\n",
    "        y=df.best,\n",
    "        mode=\"lines\",\n",
    "        name=\"best\",\n",
    "    )\n",
    "\n",
    "    fig.add_hline(y=optimal_cost)\n",
    "    fig.update_traces(marker_size=2.5)\n",
    "    return fig\n"
   ]
  },
  {
   "cell_type": "code",
   "execution_count": null,
   "metadata": {},
   "outputs": [],
   "source": [
    "fig = plot_iterations(alns_sol, opt_sol.cost)\n",
    "py.iplot(fig, filename=\"alns_solution_progress\")"
   ]
  },
  {
   "cell_type": "code",
   "execution_count": null,
   "metadata": {},
   "outputs": [],
   "source": []
  }
 ],
 "metadata": {
  "kernelspec": {
   "display_name": "Python 3",
   "language": "python",
   "name": "python3"
  },
  "language_info": {
   "codemirror_mode": {
    "name": "ipython",
    "version": 3
   },
   "file_extension": ".py",
   "mimetype": "text/x-python",
   "name": "python",
   "nbconvert_exporter": "python",
   "pygments_lexer": "ipython3",
   "version": "3.11.1"
  }
 },
 "nbformat": 4,
 "nbformat_minor": 2
}
